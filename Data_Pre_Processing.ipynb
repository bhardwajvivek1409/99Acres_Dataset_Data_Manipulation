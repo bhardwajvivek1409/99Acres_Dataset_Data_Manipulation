{
 "cells": [
  {
   "cell_type": "markdown",
   "id": "67f12f82",
   "metadata": {},
   "source": [
    "# Which societies satisfies the needs of an individual, small family and joint family?"
   ]
  },
  {
   "cell_type": "code",
   "execution_count": 1,
   "id": "aeee5af7",
   "metadata": {},
   "outputs": [],
   "source": [
    "import pandas as pd\n",
    "import numpy as np"
   ]
  },
  {
   "cell_type": "code",
   "execution_count": 2,
   "id": "14b74051",
   "metadata": {},
   "outputs": [
    {
     "data": {
      "text/plain": [
       "(3017, 20)"
      ]
     },
     "execution_count": 2,
     "metadata": {},
     "output_type": "execute_result"
    }
   ],
   "source": [
    # Import your file to start with data pre-processing
    "df = pd.read_csv('{File_Path}/flats.csv')\n",
    "df.shape"
   ]
  },
  {
   "cell_type": "code",
   "execution_count": 3,
   "id": "9b1d9794",
   "metadata": {},
   "outputs": [
    {
     "data": {
      "text/plain": [
       "Index(['property_name', 'link', 'society', 'price', 'rate', 'areaWithType',\n",
       "       'bedRoom', 'bathroom', 'balcony', 'additionalRoom', 'address',\n",
       "       'floorNum', 'facing', 'agePossession', 'nearbyLocations', 'description',\n",
       "       'furnishDetails', 'features', 'rating', 'property_id'],\n",
       "      dtype='object')"
      ]
     },
     "execution_count": 3,
     "metadata": {},
     "output_type": "execute_result"
    }
   ],
   "source": [
    "df.columns"
   ]
  },
  {
   "cell_type": "code",
   "execution_count": 4,
   "id": "7862316f",
   "metadata": {},
   "outputs": [],
   "source": [
    "df = df.loc[::,['society','rate','areaWithType','bedRoom','bathroom','balcony','additionalRoom','floorNum','facing','agePossession','property_id','nearbyLocations']]"
   ]
  },
  {
   "cell_type": "code",
   "execution_count": 5,
   "id": "fdf985fc",
   "metadata": {},
   "outputs": [
    {
     "data": {
      "text/plain": [
       "(3017, 12)"
      ]
     },
     "execution_count": 5,
     "metadata": {},
     "output_type": "execute_result"
    }
   ],
   "source": [
    "df.shape"
   ]
  },
  {
   "cell_type": "code",
   "execution_count": 6,
   "id": "93416dc8",
   "metadata": {},
   "outputs": [
    {
     "data": {
      "text/plain": [
       "126"
      ]
     },
     "execution_count": 6,
     "metadata": {},
     "output_type": "execute_result"
    }
   ],
   "source": [
    "df.duplicated().sum()"
   ]
  },
  {
   "cell_type": "code",
   "execution_count": 7,
   "id": "d69d47e2",
   "metadata": {},
   "outputs": [],
   "source": [
    "df.drop_duplicates(inplace=True)"
   ]
  },
  {
   "cell_type": "code",
   "execution_count": 8,
   "id": "9d2f0577",
   "metadata": {},
   "outputs": [
    {
     "data": {
      "text/html": [
       "<div>\n",
       "<style scoped>\n",
       "    .dataframe tbody tr th:only-of-type {\n",
       "        vertical-align: middle;\n",
       "    }\n",
       "\n",
       "    .dataframe tbody tr th {\n",
       "        vertical-align: top;\n",
       "    }\n",
       "\n",
       "    .dataframe thead th {\n",
       "        text-align: right;\n",
       "    }\n",
       "</style>\n",
       "<table border=\"1\" class=\"dataframe\">\n",
       "  <thead>\n",
       "    <tr style=\"text-align: right;\">\n",
       "      <th></th>\n",
       "      <th>society</th>\n",
       "      <th>rate</th>\n",
       "      <th>areaWithType</th>\n",
       "      <th>bedRoom</th>\n",
       "      <th>bathroom</th>\n",
       "      <th>balcony</th>\n",
       "      <th>additionalRoom</th>\n",
       "      <th>floorNum</th>\n",
       "      <th>facing</th>\n",
       "      <th>agePossession</th>\n",
       "      <th>property_id</th>\n",
       "      <th>nearbyLocations</th>\n",
       "    </tr>\n",
       "  </thead>\n",
       "  <tbody>\n",
       "    <tr>\n",
       "      <th>0</th>\n",
       "      <td>maa bhagwati residency</td>\n",
       "      <td>₹ 5,000/sq.ft.</td>\n",
       "      <td>Carpet area: 900 (83.61 sq.m.)</td>\n",
       "      <td>2 Bedrooms</td>\n",
       "      <td>2 Bathrooms</td>\n",
       "      <td>1 Balcony</td>\n",
       "      <td>NaN</td>\n",
       "      <td>4th   of 4 Floors</td>\n",
       "      <td>West</td>\n",
       "      <td>1 to 5 Year Old</td>\n",
       "      <td>C68850746</td>\n",
       "      <td>['Chintapurni Mandir', 'State bank ATM', 'Pear...</td>\n",
       "    </tr>\n",
       "    <tr>\n",
       "      <th>1</th>\n",
       "      <td>Apna Enclave</td>\n",
       "      <td>₹ 7,692/sq.ft.</td>\n",
       "      <td>Carpet area: 650 (60.39 sq.m.)</td>\n",
       "      <td>2 Bedrooms</td>\n",
       "      <td>2 Bathrooms</td>\n",
       "      <td>1 Balcony</td>\n",
       "      <td>NaN</td>\n",
       "      <td>1st   of 3 Floors</td>\n",
       "      <td>West</td>\n",
       "      <td>10+ Year Old</td>\n",
       "      <td>H68850564</td>\n",
       "      <td>['Chintapurni Mandir', 'Sheetla Mata Mandir', ...</td>\n",
       "    </tr>\n",
       "    <tr>\n",
       "      <th>2</th>\n",
       "      <td>Tulsiani Easy in Homes</td>\n",
       "      <td>₹ 6,722/sq.ft.</td>\n",
       "      <td>Carpet area: 595 (55.28 sq.m.)</td>\n",
       "      <td>2 Bedrooms</td>\n",
       "      <td>2 Bathrooms</td>\n",
       "      <td>3 Balconies</td>\n",
       "      <td>NaN</td>\n",
       "      <td>12nd   of 14 Floors</td>\n",
       "      <td>NaN</td>\n",
       "      <td>0 to 1 Year Old</td>\n",
       "      <td>J68850120</td>\n",
       "      <td>['Huda City Metro', 'Golf Course extn road', '...</td>\n",
       "    </tr>\n",
       "    <tr>\n",
       "      <th>3</th>\n",
       "      <td>Smart World Orchard</td>\n",
       "      <td>₹ 12,250/sq.ft.</td>\n",
       "      <td>Carpet area: 1200 (111.48 sq.m.)</td>\n",
       "      <td>2 Bedrooms</td>\n",
       "      <td>2 Bathrooms</td>\n",
       "      <td>2 Balconies</td>\n",
       "      <td>Study Room</td>\n",
       "      <td>2nd   of 4 Floors</td>\n",
       "      <td>NaN</td>\n",
       "      <td>Dec-23</td>\n",
       "      <td>S68849476</td>\n",
       "      <td>['Sector 55-56 Metro station', 'Bestech Centra...</td>\n",
       "    </tr>\n",
       "    <tr>\n",
       "      <th>4</th>\n",
       "      <td>Parkwood Westend</td>\n",
       "      <td>₹ 5,204/sq.ft.</td>\n",
       "      <td>Super Built up area 1345(124.95 sq.m.)</td>\n",
       "      <td>2 Bedrooms</td>\n",
       "      <td>2 Bathrooms</td>\n",
       "      <td>3 Balconies</td>\n",
       "      <td>Study Room</td>\n",
       "      <td>5th   of 8 Floors</td>\n",
       "      <td>NaN</td>\n",
       "      <td>Under Construction</td>\n",
       "      <td>L47956793</td>\n",
       "      <td>['Yadav Clinic', 'Bangali Clinic', 'Dr. J. S. ...</td>\n",
       "    </tr>\n",
       "    <tr>\n",
       "      <th>...</th>\n",
       "      <td>...</td>\n",
       "      <td>...</td>\n",
       "      <td>...</td>\n",
       "      <td>...</td>\n",
       "      <td>...</td>\n",
       "      <td>...</td>\n",
       "      <td>...</td>\n",
       "      <td>...</td>\n",
       "      <td>...</td>\n",
       "      <td>...</td>\n",
       "      <td>...</td>\n",
       "      <td>...</td>\n",
       "    </tr>\n",
       "    <tr>\n",
       "      <th>2886</th>\n",
       "      <td>Ansal Heights 86</td>\n",
       "      <td>₹ 5,541/sq.ft.</td>\n",
       "      <td>Super Built up area 1895(176.05 sq.m.)</td>\n",
       "      <td>3 Bedrooms</td>\n",
       "      <td>3 Bathrooms</td>\n",
       "      <td>3 Balconies</td>\n",
       "      <td>Servant Room</td>\n",
       "      <td>9th   of 13 Floors</td>\n",
       "      <td>North-East</td>\n",
       "      <td>Under Construction</td>\n",
       "      <td>D26586124</td>\n",
       "      <td>['IRIS Broadway Mall', 'Delhi Jaipur Expresswa...</td>\n",
       "    </tr>\n",
       "    <tr>\n",
       "      <th>2887</th>\n",
       "      <td>Parsvnath Green Ville3.9 ★</td>\n",
       "      <td>₹ 9,984/sq.ft.</td>\n",
       "      <td>Super Built up area 3905(362.79 sq.m.)Built Up...</td>\n",
       "      <td>5 Bedrooms</td>\n",
       "      <td>5 Bathrooms</td>\n",
       "      <td>3+ Balconies</td>\n",
       "      <td>Servant Room</td>\n",
       "      <td>4th   of 5 Floors</td>\n",
       "      <td>NaN</td>\n",
       "      <td>10+ Year Old</td>\n",
       "      <td>J17123294</td>\n",
       "      <td>['Sri Radhe Krishna Temple', 'Icici bank ATM',...</td>\n",
       "    </tr>\n",
       "    <tr>\n",
       "      <th>2888</th>\n",
       "      <td>Raheja Vedaanta3.6 ★</td>\n",
       "      <td>₹ 5,214/sq.ft.</td>\n",
       "      <td>Super Built up area 1822(169.27 sq.m.)</td>\n",
       "      <td>3 Bedrooms</td>\n",
       "      <td>3 Bathrooms</td>\n",
       "      <td>3 Balconies</td>\n",
       "      <td>Others</td>\n",
       "      <td>3rd   of 22 Floors</td>\n",
       "      <td>NaN</td>\n",
       "      <td>1 to 5 Year Old</td>\n",
       "      <td>A41215323</td>\n",
       "      <td>NaN</td>\n",
       "    </tr>\n",
       "    <tr>\n",
       "      <th>2889</th>\n",
       "      <td>Ambience Lagoon3.9 ★</td>\n",
       "      <td>₹ 12,500/sq.ft.</td>\n",
       "      <td>Built Up area: 3700 (343.74 sq.m.)</td>\n",
       "      <td>3 Bedrooms</td>\n",
       "      <td>4 Bathrooms</td>\n",
       "      <td>3+ Balconies</td>\n",
       "      <td>Pooja Room,Study Room,Servant Room,Others</td>\n",
       "      <td>9th   of 9 Floors</td>\n",
       "      <td>North-East</td>\n",
       "      <td>10+ Year Old</td>\n",
       "      <td>J18888617</td>\n",
       "      <td>['Micromax moulsari avenue metro station', 'In...</td>\n",
       "    </tr>\n",
       "    <tr>\n",
       "      <th>2890</th>\n",
       "      <td>DLF The Crest3.6 ★</td>\n",
       "      <td>₹ 35,222/sq.ft.</td>\n",
       "      <td>Super Built up area 3123(290.14 sq.m.)</td>\n",
       "      <td>4 Bedrooms</td>\n",
       "      <td>6 Bathrooms</td>\n",
       "      <td>3 Balconies</td>\n",
       "      <td>Servant Room</td>\n",
       "      <td>7th   of 36 Floors</td>\n",
       "      <td>NaN</td>\n",
       "      <td>1 to 5 Year Old</td>\n",
       "      <td>V70296402</td>\n",
       "      <td>['Sector 53-54 Metro Station', 'Ardee Mall', '...</td>\n",
       "    </tr>\n",
       "  </tbody>\n",
       "</table>\n",
       "<p>2891 rows × 12 columns</p>\n",
       "</div>"
      ],
      "text/plain": [
       "                         society             rate  \\\n",
       "0         maa bhagwati residency   ₹ 5,000/sq.ft.   \n",
       "1                   Apna Enclave   ₹ 7,692/sq.ft.   \n",
       "2         Tulsiani Easy in Homes   ₹ 6,722/sq.ft.   \n",
       "3            Smart World Orchard  ₹ 12,250/sq.ft.   \n",
       "4               Parkwood Westend   ₹ 5,204/sq.ft.   \n",
       "...                          ...              ...   \n",
       "2886            Ansal Heights 86   ₹ 5,541/sq.ft.   \n",
       "2887  Parsvnath Green Ville3.9 ★   ₹ 9,984/sq.ft.   \n",
       "2888        Raheja Vedaanta3.6 ★   ₹ 5,214/sq.ft.   \n",
       "2889        Ambience Lagoon3.9 ★  ₹ 12,500/sq.ft.   \n",
       "2890          DLF The Crest3.6 ★  ₹ 35,222/sq.ft.   \n",
       "\n",
       "                                           areaWithType     bedRoom  \\\n",
       "0                        Carpet area: 900 (83.61 sq.m.)  2 Bedrooms   \n",
       "1                        Carpet area: 650 (60.39 sq.m.)  2 Bedrooms   \n",
       "2                        Carpet area: 595 (55.28 sq.m.)  2 Bedrooms   \n",
       "3                      Carpet area: 1200 (111.48 sq.m.)  2 Bedrooms   \n",
       "4                Super Built up area 1345(124.95 sq.m.)  2 Bedrooms   \n",
       "...                                                 ...         ...   \n",
       "2886             Super Built up area 1895(176.05 sq.m.)  3 Bedrooms   \n",
       "2887  Super Built up area 3905(362.79 sq.m.)Built Up...  5 Bedrooms   \n",
       "2888             Super Built up area 1822(169.27 sq.m.)  3 Bedrooms   \n",
       "2889                 Built Up area: 3700 (343.74 sq.m.)  3 Bedrooms   \n",
       "2890             Super Built up area 3123(290.14 sq.m.)  4 Bedrooms   \n",
       "\n",
       "         bathroom       balcony                             additionalRoom  \\\n",
       "0     2 Bathrooms     1 Balcony                                        NaN   \n",
       "1     2 Bathrooms     1 Balcony                                        NaN   \n",
       "2     2 Bathrooms   3 Balconies                                        NaN   \n",
       "3     2 Bathrooms   2 Balconies                                 Study Room   \n",
       "4     2 Bathrooms   3 Balconies                                 Study Room   \n",
       "...           ...           ...                                        ...   \n",
       "2886  3 Bathrooms   3 Balconies                               Servant Room   \n",
       "2887  5 Bathrooms  3+ Balconies                               Servant Room   \n",
       "2888  3 Bathrooms   3 Balconies                                     Others   \n",
       "2889  4 Bathrooms  3+ Balconies  Pooja Room,Study Room,Servant Room,Others   \n",
       "2890  6 Bathrooms   3 Balconies                               Servant Room   \n",
       "\n",
       "                 floorNum      facing       agePossession property_id  \\\n",
       "0       4th   of 4 Floors        West     1 to 5 Year Old   C68850746   \n",
       "1       1st   of 3 Floors        West        10+ Year Old   H68850564   \n",
       "2     12nd   of 14 Floors         NaN     0 to 1 Year Old   J68850120   \n",
       "3       2nd   of 4 Floors         NaN              Dec-23   S68849476   \n",
       "4       5th   of 8 Floors         NaN  Under Construction   L47956793   \n",
       "...                   ...         ...                 ...         ...   \n",
       "2886   9th   of 13 Floors  North-East  Under Construction   D26586124   \n",
       "2887    4th   of 5 Floors         NaN        10+ Year Old   J17123294   \n",
       "2888   3rd   of 22 Floors         NaN     1 to 5 Year Old   A41215323   \n",
       "2889    9th   of 9 Floors  North-East        10+ Year Old   J18888617   \n",
       "2890   7th   of 36 Floors         NaN     1 to 5 Year Old   V70296402   \n",
       "\n",
       "                                        nearbyLocations  \n",
       "0     ['Chintapurni Mandir', 'State bank ATM', 'Pear...  \n",
       "1     ['Chintapurni Mandir', 'Sheetla Mata Mandir', ...  \n",
       "2     ['Huda City Metro', 'Golf Course extn road', '...  \n",
       "3     ['Sector 55-56 Metro station', 'Bestech Centra...  \n",
       "4     ['Yadav Clinic', 'Bangali Clinic', 'Dr. J. S. ...  \n",
       "...                                                 ...  \n",
       "2886  ['IRIS Broadway Mall', 'Delhi Jaipur Expresswa...  \n",
       "2887  ['Sri Radhe Krishna Temple', 'Icici bank ATM',...  \n",
       "2888                                                NaN  \n",
       "2889  ['Micromax moulsari avenue metro station', 'In...  \n",
       "2890  ['Sector 53-54 Metro Station', 'Ardee Mall', '...  \n",
       "\n",
       "[2891 rows x 12 columns]"
      ]
     },
     "execution_count": 8,
     "metadata": {},
     "output_type": "execute_result"
    }
   ],
   "source": [
    "df.reset_index(drop=True)"
   ]
  },
  {
   "cell_type": "code",
   "execution_count": 9,
   "id": "f532e624",
   "metadata": {},
   "outputs": [
    {
     "data": {
      "text/plain": [
       "society               1\n",
       "rate                 12\n",
       "areaWithType          9\n",
       "bedRoom               9\n",
       "bathroom              9\n",
       "balcony               9\n",
       "additionalRoom     1248\n",
       "floorNum             11\n",
       "facing              829\n",
       "agePossession        10\n",
       "property_id           9\n",
       "nearbyLocations      96\n",
       "dtype: int64"
      ]
     },
     "execution_count": 9,
     "metadata": {},
     "output_type": "execute_result"
    }
   ],
   "source": [
    "df.isnull().sum()"
   ]
  },
  {
   "cell_type": "code",
   "execution_count": 10,
   "id": "fec97c84",
   "metadata": {},
   "outputs": [],
   "source": [
    "df['rate'] = df['rate'].str.replace(',' , '')\n",
    "df['rate'] = df['rate'].str.extract('(\\d+)')"
   ]
  },
  {
   "cell_type": "code",
   "execution_count": 11,
   "id": "e58d5dce",
   "metadata": {},
   "outputs": [],
   "source": [
    "df['areaWithType'] = df['areaWithType'].str.extract('(\\d+)')"
   ]
  },
  {
   "cell_type": "code",
   "execution_count": 14,
   "id": "1f4b9608",
   "metadata": {},
   "outputs": [],
   "source": [
    "df[['rate','areaWithType']] = df[['rate','areaWithType']].astype('int64')"
   ]
  },
  {
   "cell_type": "code",
   "execution_count": 12,
   "id": "616b507f",
   "metadata": {},
   "outputs": [],
   "source": [
    "for a in ['rate','areaWithType']:\n",
    "    df[a] = df[a].fillna(df[a].mean())"
   ]
  },
  {
   "cell_type": "code",
   "execution_count": 13,
   "id": "6fb8bb34",
   "metadata": {},
   "outputs": [
    {
     "data": {
      "text/plain": [
       "rate            0\n",
       "areaWithType    0\n",
       "dtype: int64"
      ]
     },
     "execution_count": 13,
     "metadata": {},
     "output_type": "execute_result"
    }
   ],
   "source": [
    "df.loc[::,['rate','areaWithType']].isnull().sum()"
   ]
  },
  {
   "cell_type": "code",
   "execution_count": 15,
   "id": "a519f69d",
   "metadata": {},
   "outputs": [
    {
     "data": {
      "text/plain": [
       "society               1\n",
       "rate                  0\n",
       "areaWithType          0\n",
       "bedRoom               9\n",
       "bathroom              9\n",
       "balcony               9\n",
       "additionalRoom     1248\n",
       "floorNum             11\n",
       "facing              829\n",
       "agePossession        10\n",
       "property_id           9\n",
       "nearbyLocations      96\n",
       "dtype: int64"
      ]
     },
     "execution_count": 15,
     "metadata": {},
     "output_type": "execute_result"
    }
   ],
   "source": [
    "df.isnull().sum()"
   ]
  },
  {
   "cell_type": "code",
   "execution_count": 16,
   "id": "b656f6e7",
   "metadata": {},
   "outputs": [],
   "source": [
    "df['price'] = df['rate']*df['areaWithType']"
   ]
  },
  {
   "cell_type": "code",
   "execution_count": 17,
   "id": "b9977073",
   "metadata": {},
   "outputs": [
    {
     "data": {
      "text/plain": [
       "society            object\n",
       "rate                int64\n",
       "areaWithType        int64\n",
       "bedRoom            object\n",
       "bathroom           object\n",
       "balcony            object\n",
       "additionalRoom     object\n",
       "floorNum           object\n",
       "facing             object\n",
       "agePossession      object\n",
       "property_id        object\n",
       "nearbyLocations    object\n",
       "price               int64\n",
       "dtype: object"
      ]
     },
     "execution_count": 17,
     "metadata": {},
     "output_type": "execute_result"
    }
   ],
   "source": [
    "df.dtypes"
   ]
  },
  {
   "cell_type": "code",
   "execution_count": 18,
   "id": "e99c40ee",
   "metadata": {},
   "outputs": [],
   "source": [
    "df = df.fillna('No Data')"
   ]
  },
  {
   "cell_type": "code",
   "execution_count": 19,
   "id": "d753fb4b",
   "metadata": {},
   "outputs": [
    {
     "data": {
      "text/plain": [
       "society            0\n",
       "rate               0\n",
       "areaWithType       0\n",
       "bedRoom            0\n",
       "bathroom           0\n",
       "balcony            0\n",
       "additionalRoom     0\n",
       "floorNum           0\n",
       "facing             0\n",
       "agePossession      0\n",
       "property_id        0\n",
       "nearbyLocations    0\n",
       "price              0\n",
       "dtype: int64"
      ]
     },
     "execution_count": 19,
     "metadata": {},
     "output_type": "execute_result"
    }
   ],
   "source": [
    "df.isnull().sum()"
   ]
  },
  {
   "cell_type": "code",
   "execution_count": 20,
   "id": "f0b50b27",
   "metadata": {},
   "outputs": [],
   "source": [
    "df.to_csv('Project_data_set.csv')"
   ]
  }
 ],
 "metadata": {
  "kernelspec": {
   "display_name": "Python 3 (ipykernel)",
   "language": "python",
   "name": "python3"
  },
  "language_info": {
   "codemirror_mode": {
    "name": "ipython",
    "version": 3
   },
   "file_extension": ".py",
   "mimetype": "text/x-python",
   "name": "python",
   "nbconvert_exporter": "python",
   "pygments_lexer": "ipython3",
   "version": "3.11.4"
  }
 },
 "nbformat": 4,
 "nbformat_minor": 5
}
